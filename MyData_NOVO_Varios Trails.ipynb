{
 "cells": [
  {
   "cell_type": "markdown",
   "id": "98161604",
   "metadata": {},
   "source": [
    "# import das bibliotecas"
   ]
  },
  {
   "cell_type": "code",
   "execution_count": 1,
   "id": "ec2f5d6a",
   "metadata": {},
   "outputs": [],
   "source": [
    "%matplotlib inline\n",
    "import matplotlib.pyplot as plt\n",
    "from matplotlib import rcParams\n",
    "import numpy as np\n",
    "from scipy import signal\n",
    "from glob import glob\n",
    "from scipy import stats\n",
    "\n",
    "rcParams['figure.figsize'] = [16., 5.]"
   ]
  },
  {
   "cell_type": "markdown",
   "id": "a6efa546",
   "metadata": {},
   "source": [
    "### Filtros"
   ]
  },
  {
   "cell_type": "code",
   "execution_count": 2,
   "id": "0854ae00",
   "metadata": {},
   "outputs": [],
   "source": [
    "# definições de filtros\n",
    "\n",
    "def butter_bandpass(data, lowcut, highcut, fs=200, order=4):\n",
    "    nyq = fs * 0.5\n",
    "    low = lowcut / nyq\n",
    "    high = highcut / nyq\n",
    "    b, a = signal.butter(order, [low, high], btype='bandpass')\n",
    "    return signal.filtfilt(b, a, data)\n",
    "\n",
    "def butter_lowpass(data, lowcut, fs=200, order=4):\n",
    "    nyq = fs * 0.5\n",
    "    low = lowcut / nyq\n",
    "    b, a = signal.butter(order, low, btype='lowpass')\n",
    "    return signal.filtfilt(b, a, data)\n",
    "\n",
    "def butter_highpass(data, highcut, fs=200, order=4):\n",
    "    nyq = fs * 0.5\n",
    "    high = highcut / nyq\n",
    "    b, a = signal.butter(order, high, btype='highpass')\n",
    "    return signal.filtfilt(b, a, data)\n",
    "\n",
    "def butter_notch(data, cutoff, var=1, fs=200, order=4):\n",
    "    nyq = fs * 0.5\n",
    "    low = (cutoff - var) / nyq\n",
    "    high = (cutoff + var) / nyq\n",
    "    b, a = signal.iirfilter(order, [low, high], btype='bandstop', ftype=\"butter\")\n",
    "    return signal.filtfilt(b, a, data)"
   ]
  },
  {
   "cell_type": "markdown",
   "id": "98c7799f",
   "metadata": {},
   "source": [
    "### Carregando Dados"
   ]
  },
  {
   "cell_type": "code",
   "execution_count": 3,
   "id": "e93f102a",
   "metadata": {},
   "outputs": [],
   "source": [
    "# def plotData(dirs):\n",
    "#     data = np.load(\"datasets/topicos_cc/\"+dirs)\n",
    "#     data = np.transpose(data, (0, 2, 1))\n",
    "#     print(data.shape)\n",
    "#     data_filtered = butter_notch(data, 60)\n",
    "#     data_filtered = butter_highpass(data_filtered, 5)\n",
    "#     data_filtered = butter_lowpass(data_filtered, 50)\n",
    "#     for i in range(data_filtered.shape[1]):\n",
    "#         plt.plot(data_filtered[0,i,:])\n",
    "#     plt.suptitle(dirs)\n",
    "#     plt.show()\n"
   ]
  },
  {
   "cell_type": "code",
   "execution_count": 4,
   "id": "c8954b36",
   "metadata": {},
   "outputs": [],
   "source": [
    "def loadSujeito(dirs):\n",
    "    data = np.load(\"datasets/topicos_cc/\"+dirs)\n",
    "    data = np.transpose(data, (0, 2, 1))\n",
    "    data_filtered = butter_notch(data, 60)\n",
    "    data_filtered = butter_highpass(data_filtered, 5)\n",
    "    data_filtered = butter_lowpass(data_filtered, 50)\n",
    "    \n",
    "    return data_filtered"
   ]
  },
  {
   "cell_type": "code",
   "execution_count": 5,
   "id": "3d851379",
   "metadata": {},
   "outputs": [],
   "source": [
    "dirs = [ i.split(\"/\")[-1] for i in glob('datasets/topicos_cc/p1*')]\n",
    "data = []\n",
    "for d in dirs:\n",
    "    data.append(loadSujeito(d))"
   ]
  },
  {
   "cell_type": "code",
   "execution_count": 6,
   "id": "a69570f4",
   "metadata": {
    "scrolled": true
   },
   "outputs": [],
   "source": [
    "data_array = np.array(data)"
   ]
  },
  {
   "cell_type": "code",
   "execution_count": 7,
   "id": "ef3c6022",
   "metadata": {},
   "outputs": [
    {
     "data": {
      "text/plain": [
       "(3, 8, 4, 1600)"
      ]
     },
     "execution_count": 7,
     "metadata": {},
     "output_type": "execute_result"
    }
   ],
   "source": [
    "data_array.shape"
   ]
  },
  {
   "cell_type": "markdown",
   "id": "58570d7f",
   "metadata": {},
   "source": [
    "### Visualizando"
   ]
  },
  {
   "cell_type": "code",
   "execution_count": 8,
   "id": "364b6526",
   "metadata": {},
   "outputs": [],
   "source": [
    "# for d in dirs:\n",
    "#     plotData(d)\n"
   ]
  },
  {
   "cell_type": "markdown",
   "id": "0a3c5b4d",
   "metadata": {},
   "source": [
    "# Concatenando Trials x Movimentos"
   ]
  },
  {
   "cell_type": "code",
   "execution_count": 72,
   "id": "f91cc701",
   "metadata": {},
   "outputs": [],
   "source": [
    "from itertools import permutations\n",
    "import numpy as np\n",
    "perm = permutations([0, 1, 2])\n"
   ]
  },
  {
   "cell_type": "code",
   "execution_count": 71,
   "id": "7eab5ffd",
   "metadata": {},
   "outputs": [
    {
     "name": "stdout",
     "output_type": "stream",
     "text": [
      "(0, 1, 2)\n",
      "(0, 2, 1)\n",
      "(1, 0, 2)\n",
      "(1, 2, 0)\n",
      "(2, 0, 1)\n",
      "(2, 1, 0)\n"
     ]
    }
   ],
   "source": [
    "for i in perm:\n",
    "    print(i)"
   ]
  },
  {
   "cell_type": "code",
   "execution_count": 73,
   "id": "df025f5e",
   "metadata": {},
   "outputs": [
    {
     "data": {
      "text/plain": [
       "((16, 4, 1600), (8, 4, 1600))"
      ]
     },
     "execution_count": 73,
     "metadata": {},
     "output_type": "execute_result"
    }
   ],
   "source": [
    "\n",
    "X_entrada = data_array[0]\n",
    "\n",
    "X = []\n",
    "X.append(data_array[1])\n",
    "X.append(data_array[2])\n",
    "X = np.array(X)\n",
    "\n",
    "X = np.concatenate((np.array(X)), axis=0)\n"
   ]
  },
  {
   "cell_type": "code",
   "execution_count": null,
   "id": "b9d066f7",
   "metadata": {},
   "outputs": [],
   "source": [
    "teste = [] \n",
    "treino = []"
   ]
  },
  {
   "cell_type": "code",
   "execution_count": 76,
   "id": "a3ffb3a5",
   "metadata": {},
   "outputs": [],
   "source": [
    "dados = []"
   ]
  },
  {
   "cell_type": "code",
   "execution_count": 77,
   "id": "ab0a86b1",
   "metadata": {},
   "outputs": [],
   "source": [
    "for i in perm:\n",
    "    \n",
    "    X_entrada = data_array[i[0]]\n",
    "\n",
    "    X = []\n",
    "    X.append(data_array[i[1]])\n",
    "    X.append(data_array[i[2]])\n",
    "    X = np.array(X)\n",
    "\n",
    "    X = np.concatenate((np.array(X)), axis=0)\n",
    "    dados.append( (X_entrada, X) )\n",
    "    "
   ]
  },
  {
   "cell_type": "code",
   "execution_count": 91,
   "id": "0b33b4c2",
   "metadata": {
    "scrolled": true
   },
   "outputs": [
    {
     "data": {
      "text/plain": [
       "((8, 4, 1600), (16, 4, 1600))"
      ]
     },
     "execution_count": 91,
     "metadata": {},
     "output_type": "execute_result"
    }
   ],
   "source": [
    "dados[0][0].shape, dados[0][1].shape"
   ]
  },
  {
   "cell_type": "markdown",
   "id": "a3ba37c5",
   "metadata": {},
   "source": [
    "## Segmentação dos dados"
   ]
  },
  {
   "cell_type": "code",
   "execution_count": 11,
   "id": "89833020",
   "metadata": {
    "scrolled": true
   },
   "outputs": [],
   "source": [
    "from scipy.signal import stft\n",
    "\n",
    "def segmentacao(X):\n",
    "    data = X\n",
    "    step = 11.8\n",
    "    segment = 128\n",
    "    # data = X.reshape(24, 4, 1600)\n",
    "    # print('', data.shape)\n",
    "\n",
    "    n_win = int((data.shape[-1] - segment) / step) + 1\n",
    "    ids = np.arange(n_win) * int(step)\n",
    "\n",
    "    # Janelas do dado no dominio do tempo\n",
    "    chunks_time = np.array([data[:,:,k:(k + segment)] for k in ids]).transpose(1, 2, 0, 3)\n",
    "\n",
    "    # Janelas do dado no domínio da frequência\n",
    "    _, _, chunks_freq = stft(data, fs=200, nperseg=128, noverlap=115)\n",
    "    chunks_freq = np.swapaxes(chunks_freq, 2, 3)\n",
    "\n",
    "    print('Formato (shape) dos dados depois da divisão de janelas')\n",
    "    print(f'Dominio do tempo: {chunks_time.shape} - (classes+ensaios, canais, janelas, linhas)')\n",
    "    print(f'Dominio da frequência:  {chunks_freq.shape} - (classes+ensaios, canais, janelas, linhas)')\n",
    "    return chunks_time, chunks_freq\n"
   ]
  },
  {
   "cell_type": "code",
   "execution_count": 95,
   "id": "29e7ab74",
   "metadata": {},
   "outputs": [
    {
     "name": "stdout",
     "output_type": "stream",
     "text": [
      "Formato (shape) dos dados depois da divisão de janelas\n",
      "Dominio do tempo: (8, 4, 125, 128) - (classes+ensaios, canais, janelas, linhas)\n",
      "Dominio da frequência:  (8, 4, 125, 65) - (classes+ensaios, canais, janelas, linhas)\n",
      "Formato (shape) dos dados depois da divisão de janelas\n",
      "Dominio do tempo: (16, 4, 125, 128) - (classes+ensaios, canais, janelas, linhas)\n",
      "Dominio da frequência:  (16, 4, 125, 65) - (classes+ensaios, canais, janelas, linhas)\n",
      "\n",
      "Formato (shape) dos dados depois da divisão de janelas\n",
      "Dominio do tempo: (8, 4, 125, 128) - (classes+ensaios, canais, janelas, linhas)\n",
      "Dominio da frequência:  (8, 4, 125, 65) - (classes+ensaios, canais, janelas, linhas)\n",
      "Formato (shape) dos dados depois da divisão de janelas\n",
      "Dominio do tempo: (16, 4, 125, 128) - (classes+ensaios, canais, janelas, linhas)\n",
      "Dominio da frequência:  (16, 4, 125, 65) - (classes+ensaios, canais, janelas, linhas)\n",
      "\n",
      "Formato (shape) dos dados depois da divisão de janelas\n",
      "Dominio do tempo: (8, 4, 125, 128) - (classes+ensaios, canais, janelas, linhas)\n",
      "Dominio da frequência:  (8, 4, 125, 65) - (classes+ensaios, canais, janelas, linhas)\n",
      "Formato (shape) dos dados depois da divisão de janelas\n",
      "Dominio do tempo: (16, 4, 125, 128) - (classes+ensaios, canais, janelas, linhas)\n",
      "Dominio da frequência:  (16, 4, 125, 65) - (classes+ensaios, canais, janelas, linhas)\n",
      "\n",
      "Formato (shape) dos dados depois da divisão de janelas\n",
      "Dominio do tempo: (8, 4, 125, 128) - (classes+ensaios, canais, janelas, linhas)\n",
      "Dominio da frequência:  (8, 4, 125, 65) - (classes+ensaios, canais, janelas, linhas)\n",
      "Formato (shape) dos dados depois da divisão de janelas\n",
      "Dominio do tempo: (16, 4, 125, 128) - (classes+ensaios, canais, janelas, linhas)\n",
      "Dominio da frequência:  (16, 4, 125, 65) - (classes+ensaios, canais, janelas, linhas)\n",
      "\n",
      "Formato (shape) dos dados depois da divisão de janelas\n",
      "Dominio do tempo: (8, 4, 125, 128) - (classes+ensaios, canais, janelas, linhas)\n",
      "Dominio da frequência:  (8, 4, 125, 65) - (classes+ensaios, canais, janelas, linhas)\n",
      "Formato (shape) dos dados depois da divisão de janelas\n",
      "Dominio do tempo: (16, 4, 125, 128) - (classes+ensaios, canais, janelas, linhas)\n",
      "Dominio da frequência:  (16, 4, 125, 65) - (classes+ensaios, canais, janelas, linhas)\n",
      "\n"
     ]
    }
   ],
   "source": [
    "chunks_teste = []\n",
    "chunks_treino = []\n",
    "\n",
    "for d in dados:\n",
    "    chunks_time_teste, chunks_freq_teste = segmentacao(d[0])\n",
    "    chunks_time, chunks_freq = segmentacao(d[1])\n",
    "    print()\n",
    "    chunks_teste.append((chunks_time_teste, chunks_freq_teste))\n",
    "    chunks_treino.append((chunks_time, chunks_freq))\n",
    "    "
   ]
  },
  {
   "cell_type": "code",
   "execution_count": 116,
   "id": "d97e642d",
   "metadata": {
    "scrolled": true
   },
   "outputs": [
    {
     "data": {
      "text/plain": [
       "((8, 4, 125, 65), (16, 4, 125, 65))"
      ]
     },
     "execution_count": 116,
     "metadata": {},
     "output_type": "execute_result"
    }
   ],
   "source": [
    "\n",
    "chunks_teste[0][0].shape , chunks_treino[0][0].shape # chunks_time\n",
    "chunks_teste[0][1].shape , chunks_treino[0][1].shape # chunks_freq"
   ]
  },
  {
   "cell_type": "markdown",
   "id": "701ff37e",
   "metadata": {},
   "source": [
    "## Achar as Janelas\n",
    "O mesmo que a função acima, mas generico"
   ]
  },
  {
   "cell_type": "code",
   "execution_count": 14,
   "id": "e3ec698c",
   "metadata": {},
   "outputs": [],
   "source": [
    "# from scipy.signal import stft\n",
    "\n",
    "# def janela(overl=64):\n",
    "    \n",
    "#     for i in np.arange(1, 128, 0.1):\n",
    "#         step = i\n",
    "#         segment = 128\n",
    "#         data = X.reshape(24, 4, 1600)\n",
    "        \n",
    "#         _, _, chunks_freq = stft(data, fs=200, nperseg=128, noverlap=overl)\n",
    "#         chunks_freq = np.swapaxes(chunks_freq, 2, 3)\n",
    "#         window = chunks_freq.shape[2] \n",
    "\n",
    "#         n_win = int((data.shape[-1] - segment) / step) + 1\n",
    "#         ids = np.arange(n_win) * int(step)\n",
    "\n",
    "#         # Janelas do dado no dominio do tempo\n",
    "#         chunks_time = np.array([data[:,:,k:(k + segment)] for k in ids]).transpose(1, 2, 0, 3)\n",
    "#         time_window = chunks_time.shape[2]\n",
    "            \n",
    "#         if( time_window == window ):\n",
    "#             return step\n",
    "        \n",
    "    \n",
    "# step = janela(overl=64)\n",
    "# print(step)"
   ]
  },
  {
   "cell_type": "code",
   "execution_count": 15,
   "id": "334267a6",
   "metadata": {},
   "outputs": [],
   "source": [
    "# all_steps = []\n",
    "# for i in [0.5, 0.7, 0.8, 0.9 ]:\n",
    "#     n_step = int(128*i)\n",
    "#     print(n_step)\n",
    "#     step = janela(overl=n_step)\n",
    "#     all_steps.append(step)\n",
    "    \n",
    "# all_steps"
   ]
  },
  {
   "cell_type": "code",
   "execution_count": 16,
   "id": "8ba15e06",
   "metadata": {},
   "outputs": [],
   "source": [
    "# from scipy.signal import stft\n",
    "\n",
    "# def time_freq(step):\n",
    "    \n",
    "#     segment = 128\n",
    "#     data = X.reshape(24, 4, 1600)\n",
    "#     print('', data.shape)\n",
    "\n",
    "#     n_win = int((data.shape[-1] - segment) / step) + 1\n",
    "#     ids = np.arange(n_win) * int(step)\n",
    "\n",
    "#     # Janelas do dado no dominio do tempo\n",
    "#     chunks_time = np.array([data[:,:,k:(k + segment)] for k in ids]).transpose(1, 2, 0, 3)\n",
    "\n",
    "#     # Janelas do dado no domínio da frequência\n",
    "#     _, _, chunks_freq = stft(data, fs=200, nperseg=128, noverlap=64)\n",
    "#     chunks_freq = np.swapaxes(chunks_freq, 2, 3)\n",
    "\n",
    "#     print('Formato (shape) dos dados depois da divisão de janelas')\n",
    "#     print(f'Dominio do tempo: {chunks_time.shape} - (classes+ensaios, canais, janelas, linhas)')\n",
    "#     print(f'Dominio da frequência:  {chunks_freq.shape} - (classes+ensaios, canais, janelas, linhas)')\n",
    "#     return chunks_time, chunks_freq"
   ]
  },
  {
   "cell_type": "code",
   "execution_count": 17,
   "id": "6bf680e9",
   "metadata": {},
   "outputs": [],
   "source": [
    "# chunks_time , chunks_freq = time_freq(11.8)"
   ]
  },
  {
   "cell_type": "markdown",
   "id": "daabb365",
   "metadata": {},
   "source": [
    "## Extração e seleção de características"
   ]
  },
  {
   "cell_type": "code",
   "execution_count": 18,
   "id": "01c7c907",
   "metadata": {},
   "outputs": [],
   "source": [
    "def getZC(data, th):\n",
    "    tamanho = len(data)\n",
    "    somatoria = 0\n",
    "    \n",
    "    for i in range(tamanho-1):\n",
    "        resultado = (data[i] * data[i+1] )\n",
    "        resultado2 = np.abs(data[i] - data[i+1])\n",
    "        if(resultado < 0 ) and (resultado2 > th):\n",
    "            somatoria += 1\n",
    "        \n",
    "    return somatoria\n",
    "\n",
    "def fj(i, sampleRate, tamanho):\n",
    "    return i * sampleRate / (2 * tamanho)\n",
    "\n",
    "def getFMN(data):\n",
    "    tamanho = len(data)\n",
    "    somatoria = 0\n",
    "    sumPSD = np.sum(PSD(data))\n",
    "    for i in range(tamanho):\n",
    "        somatoria += (fj(i, 41, tamanho) * PSD(data[i]) ) / sumPSD\n",
    "        \n",
    "    return somatoria\n",
    "\n"
   ]
  },
  {
   "cell_type": "code",
   "execution_count": 19,
   "id": "ae201a54",
   "metadata": {},
   "outputs": [],
   "source": [
    "from math import prod\n",
    "\n",
    "# funções auxiliares\n",
    "def PSD(w):\n",
    "    ''' definição da função PSD para o sinal no domínio da frequência '''\n",
    "    return np.abs(w) ** 2\n",
    "\n",
    "def wamp(x, th):\n",
    "    res = np.abs(np.diff(x))\n",
    "    return np.sum(res >= th, axis=-1)\n",
    "\n",
    "def wl(x):\n",
    "    res = np.abs(np.diff(x))\n",
    "    return np.sum(res, axis=-1)\n",
    "\n",
    "def var(x):\n",
    "    return np.sum(x ** 2, axis=-1) / (np.prod(x.shape[:-1]) - 1)\n",
    "\n",
    "def rms(x):\n",
    "    return np.sqrt(np.sum(np.abs(x) ** 2, axis=-1) / (np.prod(x.shape[:-1])))\n",
    "\n",
    "def fmd(w):\n",
    "    return np.sum(PSD(w), axis=-1) / 2\n",
    "\n",
    "def mmdf(w):\n",
    "    return np.sum(np.abs(w), axis=-1) / 2\n",
    "\n",
    "def zc(data,threshold):\n",
    "    f =[]\n",
    "    x,y,z = data.shape[:3]\n",
    "    for xx in range(x):\n",
    "        fx = []\n",
    "        for yy in range(y):\n",
    "            fy = []\n",
    "            for zz in range(z):\n",
    "                fy.append( getZC(data[xx][yy][zz], threshold ) )\n",
    "            fx.append(fy)\n",
    "        f.append(fx)\n",
    "    return np.array(f)\n",
    "\n",
    "def fmn(data):\n",
    "    f =[]\n",
    "    x,y,z = data.shape[:3]\n",
    "    for xx in range(x):\n",
    "        fx = []\n",
    "        for yy in range(y):\n",
    "            fy = []\n",
    "            for zz in range(z):\n",
    "                \n",
    "                fy.append( getFMN(data[xx][yy][zz]) )\n",
    "                \n",
    "            fx.append(fy)\n",
    "        f.append(fx)\n",
    "    return np.array(f)\n",
    "\n",
    "def A(w):\n",
    "    return np.abs(w)\n",
    "\n",
    "def getMMNF(data):\n",
    "    tamanho = len(data)\n",
    "    somatoria = 0\n",
    "    \n",
    "    sumA = np.sum(A(data))\n",
    "    \n",
    "    for i in range(tamanho):\n",
    "        somatoria += (fj(i, 200, tamanho) * A(data[i]) ) / sumA \n",
    "        \n",
    "    return somatoria\n",
    "\n",
    "def mmnf(data):\n",
    "    f =[]\n",
    "    x,y,z = data.shape[:3]\n",
    "    for xx in range(x):\n",
    "        fx = []\n",
    "        for yy in range(y):\n",
    "            fy = []\n",
    "            for zz in range(z):\n",
    "                \n",
    "                fy.append( getMMNF(data[xx][yy][zz]) )\n",
    "                \n",
    "            fx.append(fy)\n",
    "        f.append(fx)\n",
    "    return np.array(f)\n",
    "\n",
    "def logD(data):\n",
    "    from math import e\n",
    "    N = np.prod(data.shape)\n",
    "    \n",
    "    return e ** ( np.sum(np.log10( np.abs(data) ), axis=-1) ) / N\n",
    "\n",
    "def iemg(data):\n",
    "    # tempo\n",
    "    return np.sum(A(data), axis=-1)\n",
    "\n",
    "def dasdv(data):\n",
    "    #tempo\n",
    "    return np.sqrt( np.sum(np.diff(data) ** 2, axis=-1) / (np.prod(data.shape[:-1]) - 1) )\n",
    "\n",
    "def tmx(x, n):\n",
    "    N = np.prod(x.shape[:-1])\n",
    "    return np.abs(np.sum(x ** n, axis=-1) / N)"
   ]
  },
  {
   "cell_type": "markdown",
   "id": "6d388f98",
   "metadata": {},
   "source": [
    "## Implementação do vetor"
   ]
  },
  {
   "cell_type": "code",
   "execution_count": 20,
   "id": "cced9e7b",
   "metadata": {},
   "outputs": [],
   "source": [
    "def final_filtros(chunks_time, chunks_freq, data):\n",
    "    th = np.median(chunks_time)\n",
    "    #VAR, RMS, WL, TM5 e DASDV\n",
    "    #WL, IEMG, LOGD\n",
    "    final_data = list()\n",
    "    final_data.append(var(chunks_time))\n",
    "    final_data.append(rms(chunks_time))\n",
    "    final_data.append(wamp(chunks_time, th))\n",
    "    final_data.append(logD(chunks_time))\n",
    "    final_data.append(wl(chunks_time))\n",
    "    final_data.append(zc(chunks_time,0))\n",
    "\n",
    "    final_data.append(iemg(chunks_time))\n",
    "    final_data.append(dasdv(chunks_time))\n",
    "    final_data.append(tmx(chunks_time, 3))\n",
    "    final_data.append(tmx(chunks_time, 4))\n",
    "    final_data.append(tmx(chunks_time, 5))\n",
    "\n",
    "    final_data.append(fmd(chunks_freq))\n",
    "    final_data.append(mmdf(chunks_freq))\n",
    "    final_data.append(fmn(chunks_freq))\n",
    "    final_data.append(mmnf(chunks_freq))\n",
    "\n",
    "    f, Pxx_den = signal.welch(data, fs=200, nperseg=248, noverlap=223)\n",
    "    final_data.append(Pxx_den)\n",
    "    final = np.array(final_data)\n",
    "    print(\"SHAPE-: \",final.shape)\n",
    "\n",
    "    return final\n",
    "  "
   ]
  },
  {
   "cell_type": "code",
   "execution_count": 124,
   "id": "fb5403a0",
   "metadata": {},
   "outputs": [
    {
     "data": {
      "text/plain": [
       "(8, 4, 125, 65)"
      ]
     },
     "execution_count": 124,
     "metadata": {},
     "output_type": "execute_result"
    }
   ],
   "source": [
    "len(chunks_teste) # Combinações\n",
    "len(chunks_teste[0]) # Chunks_time e Chunks_freq\n",
    "chunks_teste[0][0].shape # Chunks_Time\n",
    "chunks_teste[0][1].shape # Chunks_Freq"
   ]
  },
  {
   "cell_type": "code",
   "execution_count": 129,
   "id": "90a0a4b9",
   "metadata": {},
   "outputs": [
    {
     "data": {
      "text/plain": [
       "5"
      ]
     },
     "execution_count": 129,
     "metadata": {},
     "output_type": "execute_result"
    }
   ],
   "source": []
  },
  {
   "cell_type": "code",
   "execution_count": 132,
   "id": "a0218f22",
   "metadata": {},
   "outputs": [
    {
     "name": "stdout",
     "output_type": "stream",
     "text": [
      "SHAPE-:  (16, 16, 4, 125)\n",
      "SHAPE-:  (16, 8, 4, 125)\n",
      "SHAPE-:  (16, 16, 4, 125)\n",
      "SHAPE-:  (16, 8, 4, 125)\n",
      "SHAPE-:  (16, 16, 4, 125)\n",
      "SHAPE-:  (16, 8, 4, 125)\n",
      "SHAPE-:  (16, 16, 4, 125)\n",
      "SHAPE-:  (16, 8, 4, 125)\n",
      "SHAPE-:  (16, 16, 4, 125)\n",
      "SHAPE-:  (16, 8, 4, 125)\n"
     ]
    }
   ],
   "source": [
    "finais = []\n",
    "for teste, treino, X in zip(chunks_teste,chunks_treino, dados):\n",
    "    final = final_filtros(treino[0], treino[1], X[1])\n",
    "    final_entrada = final_filtros(teste[0], teste[1], X[0])\n",
    "    finais.append((final_entrada, final))"
   ]
  },
  {
   "cell_type": "code",
   "execution_count": 137,
   "id": "fc0b53b7",
   "metadata": {},
   "outputs": [
    {
     "data": {
      "text/plain": [
       "((16, 8, 4, 125), (16, 16, 4, 125))"
      ]
     },
     "execution_count": 137,
     "metadata": {},
     "output_type": "execute_result"
    }
   ],
   "source": [
    "finais[0][0].shape, finais[0][1].shape\n",
    "# Final_entrada, Final\n",
    "#chunks_teste[0][0].shape , chunks_treino[0][0].shape "
   ]
  },
  {
   "cell_type": "code",
   "execution_count": 138,
   "id": "95a0b522",
   "metadata": {
    "scrolled": true
   },
   "outputs": [],
   "source": [
    "# final = final_filtros(chunks_time, chunks_freq, X)\n"
   ]
  },
  {
   "cell_type": "code",
   "execution_count": 140,
   "id": "bd58408d",
   "metadata": {},
   "outputs": [],
   "source": [
    "# final_entrada = final_filtros(chunks_time_entrada, chunks_freq_entrada, X_entrada)\n",
    "\n",
    "# final.shape, final_entrada.shape"
   ]
  },
  {
   "cell_type": "code",
   "execution_count": 24,
   "id": "b4019a2e",
   "metadata": {},
   "outputs": [],
   "source": [
    "# data = final.transpose(0, 1, 3, 2)\n",
    "# sh = data.shape\n",
    "\n",
    "# X = data.reshape(sh[0], int(sh[1]/3), 3 * sh[2], sh[3])\n",
    "\n",
    "# print(X.shape)"
   ]
  },
  {
   "cell_type": "markdown",
   "id": "1f7399aa",
   "metadata": {},
   "source": [
    "## PCA\n"
   ]
  },
  {
   "cell_type": "code",
   "execution_count": 142,
   "id": "a84b9e93",
   "metadata": {},
   "outputs": [],
   "source": [
    "from sklearn.decomposition import PCA"
   ]
  },
  {
   "cell_type": "code",
   "execution_count": 26,
   "id": "752ac964",
   "metadata": {},
   "outputs": [],
   "source": [
    "# pca = PCA(n_components=2)\n",
    "\n",
    "# features = list()\n",
    "# for f in X:\n",
    "#     classes = list()\n",
    "#     for c in f:\n",
    "#         C_pca = pca.fit_transform(c)\n",
    "#         classes.append(C_pca)\n",
    "#     features.append(classes)\n",
    "\n",
    "# X_pca = np.array(features)"
   ]
  },
  {
   "cell_type": "code",
   "execution_count": 27,
   "id": "3177318f",
   "metadata": {},
   "outputs": [],
   "source": [
    "# X_pca.shape"
   ]
  },
  {
   "cell_type": "markdown",
   "id": "1aacdef8",
   "metadata": {},
   "source": [
    "## Visualização"
   ]
  },
  {
   "cell_type": "code",
   "execution_count": 28,
   "id": "d261eb94",
   "metadata": {},
   "outputs": [],
   "source": [
    "# def plot_features(features, features_names, classes_names, ch_1, ch_2):\n",
    "    \n",
    "#     movs = np.arange(len(classes_names))\n",
    "#     markers = [\"o\", \"v\", \"^\", \"P\", \"*\", \"x\", \"X\", \"2\", \"3\", \"1\", 'm', 'L', 'z', 'U', '6']\n",
    "#     for f, feature in enumerate(features):\n",
    "        \n",
    "#         for mov, marker in zip(movs, markers):\n",
    "#             # argumentos: classes, amostras, canal\n",
    "#             plt.scatter(feature[mov, :, ch_1],\n",
    "#                         feature[mov, :, ch_2], marker=marker)\n",
    "\n",
    "#         plt.legend((classes_names), scatterpoints=1, loc='best',\n",
    "#                    ncol=3, fontsize=8)\n",
    "        \n",
    "#         plt.title(features_names[f])\n",
    "#         plt.xlabel('CH{}'.format(ch_1))\n",
    "#         plt.ylabel('CH{}'.format(ch_2))\n",
    "#         plt.show()\n"
   ]
  },
  {
   "cell_type": "code",
   "execution_count": 29,
   "id": "1462e0b7",
   "metadata": {},
   "outputs": [],
   "source": [
    "\n",
    "\n",
    "# import matplotlib.pyplot as plt\n",
    "# from matplotlib import rcParams\n",
    "\n",
    "# plt.rcParams[\"figure.figsize\"] = (12, 12)\n",
    "\n",
    "# features_name = ('var', 'rms', 'wamp', 'wl', 'zc','logd', 'iemg','dasdv','tm3','tm4','tm5', 'fmd', 'mmdf', 'fmn', 'mmnf')\n",
    "# classes = [str(item) for item in list(range(8))]\n",
    "# plot_features(X_pca, features_name, classes, 0, 1)\n"
   ]
  },
  {
   "cell_type": "markdown",
   "id": "ed4f099f",
   "metadata": {},
   "source": [
    "## Transpose para Selecionar Feature"
   ]
  },
  {
   "cell_type": "code",
   "execution_count": 143,
   "id": "2696341b",
   "metadata": {},
   "outputs": [
    {
     "data": {
      "text/plain": [
       "(16, 16, 4, 125)"
      ]
     },
     "execution_count": 143,
     "metadata": {},
     "output_type": "execute_result"
    }
   ],
   "source": [
    "final.shape\n",
    "# 24*26 ,9, 4\n",
    "# 24*26 , 10, 4\n",
    "# 24*26 , 15, 4"
   ]
  },
  {
   "cell_type": "code",
   "execution_count": 31,
   "id": "ded0f4f2",
   "metadata": {},
   "outputs": [
    {
     "data": {
      "text/plain": [
       "(16, 16, 4, 125)"
      ]
     },
     "execution_count": 31,
     "metadata": {},
     "output_type": "execute_result"
    }
   ],
   "source": [
    "final.shape"
   ]
  },
  {
   "cell_type": "code",
   "execution_count": 32,
   "id": "dfac4d98",
   "metadata": {},
   "outputs": [
    {
     "data": {
      "text/plain": [
       "(2000, 64)"
      ]
     },
     "execution_count": 32,
     "metadata": {},
     "output_type": "execute_result"
    }
   ],
   "source": [
    "data = final.transpose(1, 3, 2, 0)\n",
    "X = data.reshape(data.shape[0]*data.shape[1], data.shape[2]*data.shape[3])\n",
    "X.shape"
   ]
  },
  {
   "cell_type": "code",
   "execution_count": 147,
   "id": "fcf9c5aa",
   "metadata": {
    "scrolled": true
   },
   "outputs": [],
   "source": [
    "finais[0][0].shape, finais[0][1].shape\n",
    "# Final_entrada, Final\n",
    "\n",
    "X_All = []\n",
    "\n",
    "for f in finais:\n",
    "    data_entrada = f[0].transpose(1, 3, 2, 0)\n",
    "    data = f[1].transpose(1, 3, 2, 0)\n",
    "    \n",
    "    X_entrada = data_entrada.reshape(data_entrada.shape[0]*data_entrada.shape[1], data_entrada.shape[2]*data_entrada.shape[3])\n",
    "    X = data.reshape(data.shape[0]*data.shape[1], data.shape[2]*data.shape[3])\n",
    "    \n",
    "    X_All.append( (X_entrada, X) )"
   ]
  },
  {
   "cell_type": "code",
   "execution_count": 149,
   "id": "f3a3a9ca",
   "metadata": {
    "scrolled": true
   },
   "outputs": [],
   "source": [
    "#X_All #(X_entrada, X)\n"
   ]
  },
  {
   "cell_type": "code",
   "execution_count": 150,
   "id": "985e3d8e",
   "metadata": {},
   "outputs": [
    {
     "data": {
      "text/plain": [
       "5"
      ]
     },
     "execution_count": 150,
     "metadata": {},
     "output_type": "execute_result"
    }
   ],
   "source": [
    "len(X_All)"
   ]
  },
  {
   "cell_type": "code",
   "execution_count": 151,
   "id": "695a4c5d",
   "metadata": {},
   "outputs": [],
   "source": [
    "# y = np.array(list(range(1, 9)) * int(X.shape[0] / 8)) # Antigo\n",
    "y_all = []\n",
    "for X in X_All:\n",
    "    y_entrada = [ [(i)] * int(X[0].shape[0] / 8 ) for i in range(8)]\n",
    "    y_entrada = np.array(y_entrada).flatten()\n",
    "    \n",
    "    y = [ [(i)] * int(X[1].shape[0] / 8 ) for i in range(8)]\n",
    "    y = np.array(y).flatten()\n",
    "    y_all.append( (y_entrada, y) )"
   ]
  },
  {
   "cell_type": "code",
   "execution_count": null,
   "id": "a04cb03b",
   "metadata": {},
   "outputs": [],
   "source": [
    "y_all # (y_entrada, y)"
   ]
  },
  {
   "cell_type": "markdown",
   "id": "58acc6aa",
   "metadata": {},
   "source": [
    "## Seleção de características"
   ]
  },
  {
   "cell_type": "markdown",
   "id": "88cb84a3",
   "metadata": {},
   "source": [
    "## Variance Threshold\n"
   ]
  },
  {
   "cell_type": "code",
   "execution_count": 34,
   "id": "ce3c177d",
   "metadata": {},
   "outputs": [],
   "source": [
    "# # teste\n",
    "\n",
    "# data_t = final.transpose(1, 3, 2, 0)\n",
    "# ## X_t = data.reshape(24*26, 9, 4)\n",
    "# ## X_t = data.reshape(24*26, 10, 4)\n",
    "# ## X_t = data.reshape(24*26, 15, 4)\n",
    "# X_t = data.reshape(24*26, 5, 4)\n",
    "\n",
    "# data_t = X_t.transpose(2, 0, 1)\n",
    "# data_t.shape\n"
   ]
  },
  {
   "cell_type": "code",
   "execution_count": 35,
   "id": "5da98e54",
   "metadata": {},
   "outputs": [],
   "source": [
    "# from sklearn.feature_selection import VarianceThreshold\n",
    "# canais = list()\n",
    "\n",
    "# for c in data_t:\n",
    "#     sel = VarianceThreshold(threshold=(.1))\n",
    "#     vt = sel.fit_transform(c)\n",
    "#     canais.append(vt)\n"
   ]
  },
  {
   "cell_type": "markdown",
   "id": "65210499",
   "metadata": {},
   "source": [
    "### RFE (Por causa do Kernel Linear não iremos utilizar)"
   ]
  },
  {
   "cell_type": "code",
   "execution_count": 36,
   "id": "8f2645a4",
   "metadata": {},
   "outputs": [],
   "source": [
    "# from sklearn.feature_selection import RFE\n",
    "# from sklearn.svm import SVC\n",
    "# estimator = SVC(kernel=\"linear\")\n",
    "# selector = RFE(estimator, n_features_to_select=5, step=1)\n",
    "# selector = selector.fit(X, y)\n",
    "# s = selector.fit_transform(X, y)"
   ]
  },
  {
   "cell_type": "markdown",
   "id": "cd5f20d2",
   "metadata": {},
   "source": [
    "### GenericUnivariateSelect"
   ]
  },
  {
   "cell_type": "code",
   "execution_count": 37,
   "id": "f58883e3",
   "metadata": {},
   "outputs": [],
   "source": [
    "# X.shape, y.shape"
   ]
  },
  {
   "cell_type": "code",
   "execution_count": 38,
   "id": "28cfdb7c",
   "metadata": {},
   "outputs": [],
   "source": [
    "# from sklearn.feature_selection import GenericUnivariateSelect, chi2\n",
    "# transformer = GenericUnivariateSelect(chi2, mode='k_best', param=10)\n",
    "# X_new = transformer.fit_transform(X, y)\n",
    "# X_new.shape"
   ]
  },
  {
   "cell_type": "code",
   "execution_count": 39,
   "id": "b2fa94f7",
   "metadata": {},
   "outputs": [],
   "source": [
    "# from sklearn.feature_selection import SelectKBest\n",
    "# X_new = SelectKBest(k=10).fit_transform(X, y)"
   ]
  },
  {
   "cell_type": "code",
   "execution_count": 40,
   "id": "35750a87",
   "metadata": {},
   "outputs": [],
   "source": [
    "# X.shape, X_new.shape"
   ]
  },
  {
   "cell_type": "markdown",
   "id": "b757f58e",
   "metadata": {},
   "source": [
    "## Normalização"
   ]
  },
  {
   "cell_type": "code",
   "execution_count": 152,
   "id": "4d6284f1",
   "metadata": {},
   "outputs": [],
   "source": [
    "#X_All #(X_entrada, X)\n",
    "#y_all # (y_entrada, y)\n",
    "\n",
    "from sklearn.preprocessing import StandardScaler\n",
    "\n",
    "\n",
    "X_train_norm = scaler.fit_transform(X_All[0][1])\n",
    "X_test_norm = scaler.fit_transform(X_All[0][0])\n",
    "\n",
    "# X_new_norm = scaler.fit_transform(X_new)"
   ]
  },
  {
   "cell_type": "markdown",
   "id": "fe2119f3",
   "metadata": {},
   "source": [
    "## SVM"
   ]
  },
  {
   "cell_type": "code",
   "execution_count": 167,
   "id": "ef5d1447",
   "metadata": {
    "scrolled": true
   },
   "outputs": [
    {
     "name": "stdout",
     "output_type": "stream",
     "text": [
      "0.09666666666666666\n",
      "0.1\n",
      "0.09333333333333334\n",
      "0.11\n",
      "0.09\n"
     ]
    }
   ],
   "source": [
    "from sklearn.model_selection import train_test_split\n",
    "\n",
    "from sklearn.svm import SVC\n",
    "from sklearn import metrics\n",
    "\n",
    "def do_svm2(X,y):\n",
    "\n",
    "    X_train, X_test, y_train, y_test = train_test_split(X, y, test_size=0.30, shuffle=True)\n",
    "\n",
    "    clf = SVC(gamma='scale')\n",
    "    clf.fit(X_train, y_train)\n",
    "\n",
    "    y_pred = clf.predict(X_test)\n",
    "    \n",
    "    acc = metrics.accuracy_score(y_test, y_pred)\n",
    "    \n",
    "    return acc\n",
    "\n",
    "def do_svm(X_train, X_test, y_train, y_test):\n",
    "    scaler = StandardScaler()\n",
    "    X_train = scaler.fit_transform(X_train)\n",
    "    X_test = scaler.transform(X_test)\n",
    "\n",
    "    clf = SVC(gamma='scale')\n",
    "    clf.fit(X_train, y_train)\n",
    "\n",
    "    y_pred = clf.predict(X_test)\n",
    "    \n",
    "    acc = metrics.accuracy_score(y_test, y_pred)\n",
    "    \n",
    "    return acc\n",
    "\n",
    "\n",
    "for x, y in zip(X_All, y_all):\n",
    "#     print(do_svm(x[1],x[0],y[1], y[0] ))\n",
    "    print(do_svm2(x[0],y[0]))    "
   ]
  },
  {
   "cell_type": "code",
   "execution_count": null,
   "id": "0781c4c5",
   "metadata": {},
   "outputs": [],
   "source": []
  },
  {
   "cell_type": "markdown",
   "id": "34e82d8c",
   "metadata": {},
   "source": [
    "# Combinations"
   ]
  },
  {
   "cell_type": "code",
   "execution_count": 43,
   "id": "05ffb03c",
   "metadata": {},
   "outputs": [],
   "source": [
    "# from itertools import combinations\n",
    "\n",
    "# best_acc = 0\n",
    "# best_comb = 0\n",
    "# for comb in range(1,12):\n",
    "#     for res in combinations(range(9),comb):\n",
    "#         acc = do_svm(X_norm.take(res, axis=1), y)\n",
    "\n",
    "#         if acc > best_acc:\n",
    "#             best_acc = acc\n",
    "#             best_comb = res\n",
    "\n",
    "# print(f\"Melhor Acurácia: {best_acc}, Melhor Combinação: {best_comb}\")\n",
    "\n",
    "# features_name = ('var', 'rms', 'wamp', 'wl', 'zc','logd', 'fmd', 'mmdf', 'fmn', 'mmnf')\n",
    "# for i in best_comb:\n",
    "#     print(f\" {i} --- {features_name[i]}\")\n"
   ]
  },
  {
   "cell_type": "code",
   "execution_count": 44,
   "id": "77d39a90",
   "metadata": {},
   "outputs": [],
   "source": [
    "# from itertools import combinations\n",
    "\n",
    "# best_acc = 0\n",
    "# best_comb = 0\n",
    "# for comb in range(1,12):\n",
    "#     for res in combinations(range(9),comb):\n",
    "#         acc = do_svm(X.take(res, axis=1), y)\n",
    "\n",
    "#         if acc > best_acc:\n",
    "#             best_acc = acc\n",
    "#             best_comb = res\n",
    "\n",
    "# print(f\"Melhor Acurácia: {best_acc}, Melhor Combinação: {best_comb}\")\n",
    "\n",
    "# features_name = ('var', 'rms', 'wamp', 'wl', 'zc','logd', 'fmd', 'mmdf', 'fmn', 'mmnf')\n",
    "# for i in best_comb:\n",
    "#     print(f\" {i} --- {features_name[i]}\")\n"
   ]
  },
  {
   "cell_type": "code",
   "execution_count": 45,
   "id": "8cb90af4",
   "metadata": {},
   "outputs": [],
   "source": [
    "# from itertools import combinations\n",
    "\n",
    "# best_acc = 0\n",
    "# best_comb = 0\n",
    "# best_k = 0\n",
    "# for comb in range(1,12):\n",
    "#     for res in combinations(range(9),comb):\n",
    "#         for ks in range(1,41):\n",
    "#             X_new = SelectKBest(k=ks).fit_transform(X, y)\n",
    "#             acc = do_svm(X_new_norm.take(res, axis=1), y)\n",
    "\n",
    "#             if acc > best_acc:\n",
    "#                 best_acc = acc\n",
    "#                 best_comb = res\n",
    "#                 best_k = ks\n",
    "\n",
    "# print(f\"Melhor Acurácia: {best_acc}, Melhor Combinação: {best_comb}, Melhor K: {best_k}\")\n",
    "\n",
    "\n"
   ]
  },
  {
   "cell_type": "markdown",
   "id": "a39e3cfe",
   "metadata": {},
   "source": [
    "## RNN"
   ]
  },
  {
   "cell_type": "code",
   "execution_count": 48,
   "id": "f4e855a4",
   "metadata": {
    "scrolled": true
   },
   "outputs": [
    {
     "name": "stderr",
     "output_type": "stream",
     "text": [
      "2022-06-21 19:29:48.249870: W tensorflow/stream_executor/platform/default/dso_loader.cc:64] Could not load dynamic library 'libcudart.so.11.0'; dlerror: libcudart.so.11.0: cannot open shared object file: No such file or directory\n",
      "2022-06-21 19:29:48.249893: I tensorflow/stream_executor/cuda/cudart_stub.cc:29] Ignore above cudart dlerror if you do not have a GPU set up on your machine.\n"
     ]
    }
   ],
   "source": [
    "from keras import regularizers\n",
    "from keras.models import Sequential\n",
    "from keras.layers import Dense, Dropout\n",
    "from keras.optimizers import SGD, Adam\n",
    "from keras.utils.np_utils import to_categorical\n",
    "import numpy as np\n",
    "from sklearn.metrics import classification_report, accuracy_score, confusion_matrix\n",
    "from sklearn.model_selection import GridSearchCV, train_test_split\n",
    "from sklearn.preprocessing import LabelEncoder\n",
    "from urllib.request import urlopen, urlretrieve\n",
    "\n",
    "import matplotlib.pyplot as plt\n",
    "%matplotlib inline"
   ]
  },
  {
   "cell_type": "markdown",
   "id": "dcb16452",
   "metadata": {},
   "source": [
    "## Divisão dos dados em treino e teste:"
   ]
  },
  {
   "cell_type": "code",
   "execution_count": 49,
   "id": "568f8f72",
   "metadata": {},
   "outputs": [],
   "source": [
    "\n",
    "# Dividindo em conjuntos de treino (80%) e teste (20%)\n",
    "X_train, X_test, y_train, y_test = train_test_split(\n",
    "    X_norm, y, test_size=0.3)\n",
    "\n",
    "# treino: 80% dos 80% de treino. Validacao: 20% dos 80% de treino.\n",
    "X_train, X_val, y_train, y_val = train_test_split(\n",
    "    X_train, y_train, test_size=0.3, shuffle=None, stratify=y_train)\n"
   ]
  },
  {
   "cell_type": "markdown",
   "id": "3e3948c1",
   "metadata": {},
   "source": [
    "## Aplicação do algoritmo de MLP e geração dos resultados:"
   ]
  },
  {
   "cell_type": "code",
   "execution_count": 50,
   "id": "d5290d7a",
   "metadata": {},
   "outputs": [
    {
     "name": "stdout",
     "output_type": "stream",
     "text": [
      "Epoch 1/100\n"
     ]
    },
    {
     "name": "stderr",
     "output_type": "stream",
     "text": [
      "2022-06-21 19:30:00.469067: W tensorflow/stream_executor/platform/default/dso_loader.cc:64] Could not load dynamic library 'libcuda.so.1'; dlerror: libcuda.so.1: cannot open shared object file: No such file or directory\n",
      "2022-06-21 19:30:00.469086: W tensorflow/stream_executor/cuda/cuda_driver.cc:269] failed call to cuInit: UNKNOWN ERROR (303)\n",
      "2022-06-21 19:30:00.469103: I tensorflow/stream_executor/cuda/cuda_diagnostics.cc:156] kernel driver does not appear to be running on this host (debian): /proc/driver/nvidia/version does not exist\n",
      "2022-06-21 19:30:00.469278: I tensorflow/core/platform/cpu_feature_guard.cc:193] This TensorFlow binary is optimized with oneAPI Deep Neural Network Library (oneDNN) to use the following CPU instructions in performance-critical operations:  AVX2 FMA\n",
      "To enable them in other operations, rebuild TensorFlow with the appropriate compiler flags.\n",
      "/home/alunos/a1858351/Documentos/lib/python3.9/site-packages/keras/optimizers/optimizer_v2/gradient_descent.py:108: UserWarning: The `lr` argument is deprecated, use `learning_rate` instead.\n",
      "  super(SGD, self).__init__(name, **kwargs)\n",
      "/home/alunos/a1858351/Documentos/lib/python3.9/site-packages/keras/optimizers/optimizer_v2/adam.py:110: UserWarning: The `lr` argument is deprecated, use `learning_rate` instead.\n",
      "  super(Adam, self).__init__(name, **kwargs)\n"
     ]
    },
    {
     "name": "stdout",
     "output_type": "stream",
     "text": [
      "66/66 [==============================] - 1s 3ms/step - loss: 2.2770 - accuracy: 0.2327 - val_loss: 1.9685 - val_accuracy: 0.4119\n",
      "Epoch 2/100\n",
      "66/66 [==============================] - 0s 2ms/step - loss: 1.8469 - accuracy: 0.4020 - val_loss: 1.7180 - val_accuracy: 0.4429\n",
      "Epoch 3/100\n",
      "66/66 [==============================] - 0s 2ms/step - loss: 1.6308 - accuracy: 0.4816 - val_loss: 1.6119 - val_accuracy: 0.4548\n",
      "Epoch 4/100\n",
      "66/66 [==============================] - 0s 2ms/step - loss: 1.5028 - accuracy: 0.5214 - val_loss: 1.4812 - val_accuracy: 0.5214\n",
      "Epoch 5/100\n",
      "66/66 [==============================] - 0s 2ms/step - loss: 1.4057 - accuracy: 0.5765 - val_loss: 1.4026 - val_accuracy: 0.5548\n",
      "Epoch 6/100\n",
      "66/66 [==============================] - 0s 2ms/step - loss: 1.3548 - accuracy: 0.6082 - val_loss: 1.3522 - val_accuracy: 0.5833\n",
      "Epoch 7/100\n",
      "66/66 [==============================] - 0s 2ms/step - loss: 1.2974 - accuracy: 0.6194 - val_loss: 1.3090 - val_accuracy: 0.5881\n",
      "Epoch 8/100\n",
      "66/66 [==============================] - 0s 2ms/step - loss: 1.2384 - accuracy: 0.6633 - val_loss: 1.2546 - val_accuracy: 0.6595\n",
      "Epoch 9/100\n",
      "66/66 [==============================] - 0s 2ms/step - loss: 1.2160 - accuracy: 0.6857 - val_loss: 1.2410 - val_accuracy: 0.6286\n",
      "Epoch 10/100\n",
      "66/66 [==============================] - 0s 1ms/step - loss: 1.1645 - accuracy: 0.6816 - val_loss: 1.2154 - val_accuracy: 0.6881\n",
      "Epoch 11/100\n",
      "66/66 [==============================] - 0s 2ms/step - loss: 1.1170 - accuracy: 0.7194 - val_loss: 1.2114 - val_accuracy: 0.6714\n",
      "Epoch 12/100\n",
      "66/66 [==============================] - 0s 2ms/step - loss: 1.1078 - accuracy: 0.7418 - val_loss: 1.1338 - val_accuracy: 0.7024\n",
      "Epoch 13/100\n",
      "66/66 [==============================] - 0s 2ms/step - loss: 1.0555 - accuracy: 0.7520 - val_loss: 1.1641 - val_accuracy: 0.6738\n",
      "Epoch 14/100\n",
      "66/66 [==============================] - 0s 2ms/step - loss: 1.0684 - accuracy: 0.7337 - val_loss: 1.1245 - val_accuracy: 0.7095\n",
      "Epoch 15/100\n",
      "66/66 [==============================] - 0s 1ms/step - loss: 1.0306 - accuracy: 0.7643 - val_loss: 1.0970 - val_accuracy: 0.7190\n",
      "Epoch 16/100\n",
      "66/66 [==============================] - 0s 2ms/step - loss: 1.0081 - accuracy: 0.7745 - val_loss: 1.0640 - val_accuracy: 0.7500\n",
      "Epoch 17/100\n",
      "66/66 [==============================] - 0s 2ms/step - loss: 0.9728 - accuracy: 0.7908 - val_loss: 1.1227 - val_accuracy: 0.7214\n",
      "Epoch 18/100\n",
      "66/66 [==============================] - 0s 2ms/step - loss: 0.9782 - accuracy: 0.7959 - val_loss: 1.0514 - val_accuracy: 0.7333\n",
      "Epoch 19/100\n",
      "66/66 [==============================] - 0s 2ms/step - loss: 0.9509 - accuracy: 0.7929 - val_loss: 1.1027 - val_accuracy: 0.7381\n",
      "Epoch 20/100\n",
      "66/66 [==============================] - 0s 2ms/step - loss: 0.9289 - accuracy: 0.8204 - val_loss: 1.0477 - val_accuracy: 0.7476\n",
      "Epoch 21/100\n",
      "66/66 [==============================] - 0s 2ms/step - loss: 0.9164 - accuracy: 0.8204 - val_loss: 1.0171 - val_accuracy: 0.7762\n",
      "Epoch 22/100\n",
      "66/66 [==============================] - 0s 2ms/step - loss: 0.9299 - accuracy: 0.8082 - val_loss: 1.1103 - val_accuracy: 0.7429\n",
      "Epoch 23/100\n",
      "66/66 [==============================] - 0s 2ms/step - loss: 0.8918 - accuracy: 0.8367 - val_loss: 1.0305 - val_accuracy: 0.7548\n",
      "Epoch 24/100\n",
      "66/66 [==============================] - 0s 2ms/step - loss: 0.8989 - accuracy: 0.8245 - val_loss: 0.9962 - val_accuracy: 0.7905\n",
      "Epoch 25/100\n",
      "66/66 [==============================] - 0s 2ms/step - loss: 0.8618 - accuracy: 0.8418 - val_loss: 0.9537 - val_accuracy: 0.7690\n",
      "Epoch 26/100\n",
      "66/66 [==============================] - 0s 2ms/step - loss: 0.8518 - accuracy: 0.8357 - val_loss: 0.9524 - val_accuracy: 0.8167\n",
      "Epoch 27/100\n",
      "66/66 [==============================] - 0s 2ms/step - loss: 0.9034 - accuracy: 0.8204 - val_loss: 1.0282 - val_accuracy: 0.7500\n",
      "Epoch 28/100\n",
      "66/66 [==============================] - 0s 2ms/step - loss: 0.8792 - accuracy: 0.8255 - val_loss: 0.9902 - val_accuracy: 0.7810\n",
      "Epoch 29/100\n",
      "66/66 [==============================] - 0s 2ms/step - loss: 0.8479 - accuracy: 0.8469 - val_loss: 0.9933 - val_accuracy: 0.7905\n",
      "Epoch 30/100\n",
      "66/66 [==============================] - 0s 2ms/step - loss: 0.8353 - accuracy: 0.8398 - val_loss: 0.9326 - val_accuracy: 0.7952\n",
      "Epoch 31/100\n",
      "66/66 [==============================] - 0s 1ms/step - loss: 0.8066 - accuracy: 0.8531 - val_loss: 0.9209 - val_accuracy: 0.8071\n",
      "Epoch 32/100\n",
      "66/66 [==============================] - 0s 2ms/step - loss: 0.8092 - accuracy: 0.8541 - val_loss: 0.9715 - val_accuracy: 0.8071\n",
      "Epoch 33/100\n",
      "66/66 [==============================] - 0s 2ms/step - loss: 0.7914 - accuracy: 0.8694 - val_loss: 0.9374 - val_accuracy: 0.8048\n",
      "Epoch 34/100\n",
      "66/66 [==============================] - 0s 2ms/step - loss: 0.7904 - accuracy: 0.8643 - val_loss: 0.9104 - val_accuracy: 0.8119\n",
      "Epoch 35/100\n",
      "66/66 [==============================] - 0s 2ms/step - loss: 0.7654 - accuracy: 0.8806 - val_loss: 0.9634 - val_accuracy: 0.7905\n",
      "Epoch 36/100\n",
      "66/66 [==============================] - 0s 2ms/step - loss: 0.7760 - accuracy: 0.8592 - val_loss: 0.9983 - val_accuracy: 0.7595\n",
      "Epoch 37/100\n",
      "66/66 [==============================] - 0s 2ms/step - loss: 0.7768 - accuracy: 0.8714 - val_loss: 1.0492 - val_accuracy: 0.7595\n",
      "Epoch 38/100\n",
      "66/66 [==============================] - 0s 2ms/step - loss: 0.8187 - accuracy: 0.8357 - val_loss: 0.9604 - val_accuracy: 0.7762\n",
      "Epoch 39/100\n",
      "66/66 [==============================] - 0s 2ms/step - loss: 0.7931 - accuracy: 0.8592 - val_loss: 0.9141 - val_accuracy: 0.8143\n",
      "Epoch 40/100\n",
      "66/66 [==============================] - 0s 2ms/step - loss: 0.7563 - accuracy: 0.8745 - val_loss: 0.9225 - val_accuracy: 0.8286\n",
      "Epoch 41/100\n",
      "66/66 [==============================] - 0s 2ms/step - loss: 0.7459 - accuracy: 0.8837 - val_loss: 0.9005 - val_accuracy: 0.7833\n",
      "Epoch 42/100\n",
      "66/66 [==============================] - 0s 2ms/step - loss: 0.7454 - accuracy: 0.8786 - val_loss: 0.8535 - val_accuracy: 0.8238\n",
      "Epoch 43/100\n",
      "66/66 [==============================] - 0s 2ms/step - loss: 0.7265 - accuracy: 0.8857 - val_loss: 0.8360 - val_accuracy: 0.8500\n",
      "Epoch 44/100\n",
      "66/66 [==============================] - 0s 2ms/step - loss: 0.7104 - accuracy: 0.8908 - val_loss: 0.8887 - val_accuracy: 0.8143\n",
      "Epoch 45/100\n",
      "66/66 [==============================] - 0s 2ms/step - loss: 0.7222 - accuracy: 0.8898 - val_loss: 0.9025 - val_accuracy: 0.8024\n",
      "Epoch 46/100\n",
      "66/66 [==============================] - 0s 2ms/step - loss: 0.7368 - accuracy: 0.8837 - val_loss: 0.8313 - val_accuracy: 0.8310\n",
      "Epoch 47/100\n",
      "66/66 [==============================] - 0s 2ms/step - loss: 0.6985 - accuracy: 0.8969 - val_loss: 0.8869 - val_accuracy: 0.8452\n",
      "Epoch 48/100\n",
      "66/66 [==============================] - 0s 2ms/step - loss: 0.7049 - accuracy: 0.9010 - val_loss: 0.8853 - val_accuracy: 0.8024\n",
      "Epoch 49/100\n",
      "66/66 [==============================] - 0s 2ms/step - loss: 0.7115 - accuracy: 0.8806 - val_loss: 0.8622 - val_accuracy: 0.8429\n",
      "Epoch 50/100\n",
      "66/66 [==============================] - 0s 2ms/step - loss: 0.7309 - accuracy: 0.8735 - val_loss: 0.8309 - val_accuracy: 0.8476\n",
      "Epoch 51/100\n",
      "66/66 [==============================] - 0s 2ms/step - loss: 0.7053 - accuracy: 0.8990 - val_loss: 0.8746 - val_accuracy: 0.8333\n",
      "Epoch 52/100\n",
      "66/66 [==============================] - 0s 2ms/step - loss: 0.7134 - accuracy: 0.8949 - val_loss: 0.9096 - val_accuracy: 0.8024\n",
      "Epoch 53/100\n",
      "66/66 [==============================] - 0s 2ms/step - loss: 0.7233 - accuracy: 0.8786 - val_loss: 0.8214 - val_accuracy: 0.8405\n",
      "Epoch 54/100\n",
      "66/66 [==============================] - 0s 2ms/step - loss: 0.7407 - accuracy: 0.8653 - val_loss: 0.8761 - val_accuracy: 0.8357\n",
      "Epoch 55/100\n",
      "66/66 [==============================] - 0s 2ms/step - loss: 0.6730 - accuracy: 0.9173 - val_loss: 0.8208 - val_accuracy: 0.8571\n",
      "Epoch 56/100\n",
      "66/66 [==============================] - 0s 2ms/step - loss: 0.6906 - accuracy: 0.8969 - val_loss: 0.8210 - val_accuracy: 0.8452\n",
      "Epoch 57/100\n",
      "66/66 [==============================] - 0s 2ms/step - loss: 0.6772 - accuracy: 0.9020 - val_loss: 0.7918 - val_accuracy: 0.8500\n",
      "Epoch 58/100\n",
      "66/66 [==============================] - 0s 2ms/step - loss: 0.6444 - accuracy: 0.9102 - val_loss: 0.7992 - val_accuracy: 0.8667\n"
     ]
    },
    {
     "name": "stdout",
     "output_type": "stream",
     "text": [
      "Epoch 59/100\n",
      "66/66 [==============================] - 0s 1ms/step - loss: 0.6399 - accuracy: 0.9255 - val_loss: 0.7764 - val_accuracy: 0.8667\n",
      "Epoch 60/100\n",
      "66/66 [==============================] - 0s 2ms/step - loss: 0.6552 - accuracy: 0.9000 - val_loss: 0.8231 - val_accuracy: 0.8238\n",
      "Epoch 61/100\n",
      "66/66 [==============================] - 0s 2ms/step - loss: 0.6607 - accuracy: 0.9051 - val_loss: 0.8452 - val_accuracy: 0.8405\n",
      "Epoch 62/100\n",
      "66/66 [==============================] - 0s 2ms/step - loss: 0.6799 - accuracy: 0.8918 - val_loss: 0.8438 - val_accuracy: 0.8548\n",
      "Epoch 63/100\n",
      "66/66 [==============================] - 0s 2ms/step - loss: 0.6606 - accuracy: 0.9061 - val_loss: 0.7912 - val_accuracy: 0.8548\n",
      "Epoch 64/100\n",
      "66/66 [==============================] - 0s 2ms/step - loss: 0.6316 - accuracy: 0.9245 - val_loss: 0.7866 - val_accuracy: 0.8476\n",
      "Epoch 65/100\n",
      "66/66 [==============================] - 0s 2ms/step - loss: 0.6402 - accuracy: 0.9061 - val_loss: 0.7901 - val_accuracy: 0.8476\n",
      "Epoch 66/100\n",
      "66/66 [==============================] - 0s 2ms/step - loss: 0.6344 - accuracy: 0.9112 - val_loss: 0.7961 - val_accuracy: 0.8333\n",
      "Epoch 67/100\n",
      "66/66 [==============================] - 0s 2ms/step - loss: 0.6426 - accuracy: 0.9102 - val_loss: 0.7881 - val_accuracy: 0.8310\n",
      "Epoch 68/100\n",
      "66/66 [==============================] - 0s 2ms/step - loss: 0.6287 - accuracy: 0.9163 - val_loss: 0.8034 - val_accuracy: 0.8476\n",
      "Epoch 69/100\n",
      "66/66 [==============================] - 0s 2ms/step - loss: 0.6433 - accuracy: 0.9071 - val_loss: 0.8333 - val_accuracy: 0.8214\n",
      "Epoch 70/100\n",
      "66/66 [==============================] - 0s 2ms/step - loss: 0.6275 - accuracy: 0.9031 - val_loss: 0.7734 - val_accuracy: 0.8643\n",
      "Epoch 71/100\n",
      "66/66 [==============================] - 0s 2ms/step - loss: 0.6484 - accuracy: 0.9020 - val_loss: 0.8511 - val_accuracy: 0.7881\n",
      "Epoch 72/100\n",
      "66/66 [==============================] - 0s 2ms/step - loss: 0.6263 - accuracy: 0.9143 - val_loss: 0.8304 - val_accuracy: 0.8405\n",
      "Epoch 73/100\n",
      "66/66 [==============================] - 0s 2ms/step - loss: 0.6726 - accuracy: 0.8765 - val_loss: 0.7737 - val_accuracy: 0.8476\n",
      "Epoch 74/100\n",
      "66/66 [==============================] - 0s 2ms/step - loss: 0.7303 - accuracy: 0.8694 - val_loss: 0.8552 - val_accuracy: 0.8405\n",
      "Epoch 75/100\n",
      "66/66 [==============================] - 0s 2ms/step - loss: 0.6649 - accuracy: 0.9000 - val_loss: 0.8111 - val_accuracy: 0.8405\n",
      "Epoch 76/100\n",
      "66/66 [==============================] - 0s 2ms/step - loss: 0.6257 - accuracy: 0.9112 - val_loss: 0.7495 - val_accuracy: 0.8571\n",
      "Epoch 77/100\n",
      "66/66 [==============================] - 0s 2ms/step - loss: 0.5886 - accuracy: 0.9286 - val_loss: 0.7488 - val_accuracy: 0.8738\n",
      "Epoch 78/100\n",
      "66/66 [==============================] - 0s 2ms/step - loss: 0.5843 - accuracy: 0.9296 - val_loss: 0.7388 - val_accuracy: 0.8690\n",
      "Epoch 79/100\n",
      "66/66 [==============================] - 0s 2ms/step - loss: 0.5755 - accuracy: 0.9286 - val_loss: 0.7504 - val_accuracy: 0.8619\n",
      "Epoch 80/100\n",
      "66/66 [==============================] - 0s 2ms/step - loss: 0.6003 - accuracy: 0.9173 - val_loss: 0.8644 - val_accuracy: 0.8524\n",
      "Epoch 81/100\n",
      "66/66 [==============================] - 0s 2ms/step - loss: 0.6668 - accuracy: 0.8918 - val_loss: 0.8134 - val_accuracy: 0.8429\n",
      "Epoch 82/100\n",
      "66/66 [==============================] - 0s 2ms/step - loss: 0.6180 - accuracy: 0.9082 - val_loss: 0.7983 - val_accuracy: 0.8571\n",
      "Epoch 83/100\n",
      "66/66 [==============================] - 0s 2ms/step - loss: 0.6387 - accuracy: 0.8980 - val_loss: 0.7712 - val_accuracy: 0.8524\n",
      "Epoch 84/100\n",
      "66/66 [==============================] - 0s 2ms/step - loss: 0.6042 - accuracy: 0.9092 - val_loss: 0.7552 - val_accuracy: 0.8405\n",
      "Epoch 85/100\n",
      "66/66 [==============================] - 0s 2ms/step - loss: 0.5874 - accuracy: 0.9184 - val_loss: 0.7374 - val_accuracy: 0.8571\n",
      "Epoch 86/100\n",
      "66/66 [==============================] - 0s 2ms/step - loss: 0.5928 - accuracy: 0.9153 - val_loss: 0.7293 - val_accuracy: 0.8619\n",
      "Epoch 87/100\n",
      "66/66 [==============================] - 0s 3ms/step - loss: 0.5724 - accuracy: 0.9245 - val_loss: 0.7345 - val_accuracy: 0.8810\n",
      "Epoch 88/100\n",
      "66/66 [==============================] - 0s 2ms/step - loss: 0.6053 - accuracy: 0.9112 - val_loss: 0.7847 - val_accuracy: 0.8405\n",
      "Epoch 89/100\n",
      "66/66 [==============================] - 0s 2ms/step - loss: 0.6208 - accuracy: 0.8939 - val_loss: 0.8582 - val_accuracy: 0.8476\n",
      "Epoch 90/100\n",
      "66/66 [==============================] - 0s 2ms/step - loss: 0.6766 - accuracy: 0.8857 - val_loss: 0.8385 - val_accuracy: 0.8381\n",
      "Epoch 91/100\n",
      "66/66 [==============================] - 0s 2ms/step - loss: 0.5902 - accuracy: 0.9327 - val_loss: 0.7607 - val_accuracy: 0.8643\n",
      "Epoch 92/100\n",
      "66/66 [==============================] - 0s 1ms/step - loss: 0.5786 - accuracy: 0.9173 - val_loss: 0.7752 - val_accuracy: 0.8524\n",
      "Epoch 93/100\n",
      "66/66 [==============================] - 0s 1ms/step - loss: 0.5400 - accuracy: 0.9367 - val_loss: 0.6926 - val_accuracy: 0.8833\n",
      "Epoch 94/100\n",
      "66/66 [==============================] - 0s 1ms/step - loss: 0.5396 - accuracy: 0.9378 - val_loss: 0.7057 - val_accuracy: 0.8690\n",
      "Epoch 95/100\n",
      "66/66 [==============================] - 0s 1ms/step - loss: 0.5385 - accuracy: 0.9327 - val_loss: 0.6745 - val_accuracy: 0.8929\n",
      "Epoch 96/100\n",
      "66/66 [==============================] - 0s 2ms/step - loss: 0.5431 - accuracy: 0.9357 - val_loss: 0.7448 - val_accuracy: 0.8643\n",
      "Epoch 97/100\n",
      "66/66 [==============================] - 0s 2ms/step - loss: 0.5307 - accuracy: 0.9378 - val_loss: 0.7265 - val_accuracy: 0.8595\n",
      "Epoch 98/100\n",
      "66/66 [==============================] - 0s 2ms/step - loss: 0.5346 - accuracy: 0.9388 - val_loss: 0.7776 - val_accuracy: 0.8714\n",
      "Epoch 99/100\n",
      "66/66 [==============================] - 0s 1ms/step - loss: 0.5826 - accuracy: 0.9245 - val_loss: 0.8380 - val_accuracy: 0.8000\n",
      "Epoch 100/100\n",
      "66/66 [==============================] - 0s 1ms/step - loss: 0.6276 - accuracy: 0.9000 - val_loss: 0.9802 - val_accuracy: 0.8214\n"
     ]
    }
   ],
   "source": [
    "# definição de uma fração do regularizador\n",
    "l = 0.01\n",
    "\n",
    "# desenvolvimento do modelo Keras para uma MLP\n",
    "model = Sequential()\n",
    "model.add(Dense(20, activation='relu', input_dim=64,\n",
    "                kernel_regularizer=regularizers.l2(l)))\n",
    "# Aplicação de um dropout (caso necessário)\n",
    "# model.add(Dropout(0.5))\n",
    "model.add(Dense(10, activation='relu',\n",
    "                kernel_regularizer=regularizers.l2(l)))\n",
    "# Aplicação de um dropout (caso necessário)\n",
    "# model.add(Dropout(0.5))\n",
    "model.add(Dense(8, activation='softmax'))\n",
    "\n",
    "# Aplicação de um modelo de descida de gradiente utilizando o Stocastic Gradient Descendent (SGD)\n",
    "sgd = SGD(lr=0.05, momentum=0.0)\n",
    "# Função de otimização da rede: ADAM\n",
    "adam = Adam(lr=0.005, beta_1=0.9, beta_2=0.999)\n",
    "# Função de custo baseada em dados originalmente categóricos\n",
    "model.compile(loss='sparse_categorical_crossentropy', optimizer=adam,\n",
    "              metrics=['accuracy'])\n",
    "\n",
    "history = model.fit(X_train, y_train, epochs=100, batch_size=15,\n",
    "                    validation_data=(X_val, y_val))\n",
    "\n",
    "#Dro_out, batch_size, epoch, sgd, adam e l2"
   ]
  },
  {
   "cell_type": "code",
   "execution_count": 51,
   "id": "dffb3752",
   "metadata": {},
   "outputs": [
    {
     "name": "stdout",
     "output_type": "stream",
     "text": [
      "19/19 [==============================] - 0s 803us/step\n",
      "Acurácia: 78.00%\n",
      "Matriz de confusão:\n",
      "[[70  2  0  1  6  1  0  0]\n",
      " [ 6 56  3  0  0  6  1  1]\n",
      " [ 1  6 63  1  0  4  3  0]\n",
      " [ 7  4  9 44  0  2  0  6]\n",
      " [ 8  1  0  2 48 11  0  4]\n",
      " [ 6  2  3  0  3 61  1  0]\n",
      " [ 1  0  5  4  0  2 61  0]\n",
      " [ 0  0  6  0  3  0  0 65]]\n",
      "\n",
      "              precision    recall  f1-score   support\n",
      "\n",
      "           0    0.70707   0.87500   0.78212        80\n",
      "           1    0.78873   0.76712   0.77778        73\n",
      "           2    0.70787   0.80769   0.75449        78\n",
      "           3    0.84615   0.61111   0.70968        72\n",
      "           4    0.80000   0.64865   0.71642        74\n",
      "           5    0.70115   0.80263   0.74847        76\n",
      "           6    0.92424   0.83562   0.87770        73\n",
      "           7    0.85526   0.87838   0.86667        74\n",
      "\n",
      "    accuracy                        0.78000       600\n",
      "   macro avg    0.79131   0.77828   0.77916       600\n",
      "weighted avg    0.78921   0.78000   0.77900       600\n",
      "\n"
     ]
    }
   ],
   "source": [
    "# \n",
    "# score = model.predict_classes(X_test)\n",
    "# y_true = [np.where(x == 1)[0][0] for x in y_test]\n",
    "\n",
    "predict_x=model.predict(X_test) \n",
    "score=np.argmax(predict_x,axis=1)\n",
    "y_true = y_test\n",
    "\n",
    "print('Acurácia: %0.2f%%' % (accuracy_score(y_true, score) * 100))\n",
    "print('Matriz de confusão:')\n",
    "print(confusion_matrix(y_true, score))\n",
    "print()\n",
    "print(classification_report(y_true, score, digits=5))"
   ]
  },
  {
   "cell_type": "markdown",
   "id": "3a60459a",
   "metadata": {},
   "source": [
    "# Grafico"
   ]
  },
  {
   "cell_type": "code",
   "execution_count": 52,
   "id": "33bcb393",
   "metadata": {},
   "outputs": [],
   "source": [
    "def plot_history(h):\n",
    "    loss_list = [s for s in h.history.keys() if 'loss' in s and 'val' not in s]\n",
    "    val_loss_list = [s for s in h.history.keys() if 'loss' in s and 'val' in s]\n",
    "    acc_list = [s for s in h.history.keys() if 'acc' in s and 'val' not in s]\n",
    "    val_acc_list = [s for s in h.history.keys() if 'acc' in s and 'val' in s]\n",
    "    if len(loss_list) == 0:\n",
    "        print('Custo não está presente no histórico')\n",
    "        return\n",
    "    epochs = range(1, len(history.history[loss_list[0]]) + 1)\n",
    "    # Custo\n",
    "    plt.figure(1)\n",
    "    for l in loss_list:\n",
    "        plt.plot(epochs, h.history[l], 'b',\n",
    "                 label='Custo [treinamento] (' + str(str(format(\n",
    "                    h.history[l][-1],'.5f'))+')'))\n",
    "    for l in val_loss_list:\n",
    "        plt.plot(epochs, h.history[l], 'g',\n",
    "                 label='Custo [validação] (' + str(str(format(\n",
    "                    h.history[l][-1],'.5f'))+')'))\n",
    "    plt.title('Custo')\n",
    "    plt.xlabel('Épocas')\n",
    "    plt.ylabel('Custo')\n",
    "    plt.legend()\n",
    "    # Acurácia\n",
    "    plt.figure(2)\n",
    "    for l in acc_list:\n",
    "        plt.plot(epochs, h.history[l], 'b',\n",
    "                 label='Acurácia [treinamento] (' + str(format(\n",
    "                    h.history[l][-1],'.5f'))+')')\n",
    "    for l in val_acc_list:\n",
    "        plt.plot(epochs, h.history[l], 'g',\n",
    "                 label='Acurácia [validação] (' + str(format(\n",
    "                    h.history[l][-1],'.5f'))+')')\n",
    "    plt.title('Acurácia')\n",
    "    plt.xlabel('Épocas')\n",
    "    plt.ylabel('Acurácia')\n",
    "    plt.legend()\n",
    "    plt.show()"
   ]
  },
  {
   "cell_type": "code",
   "execution_count": 53,
   "id": "4e0706c5",
   "metadata": {},
   "outputs": [
    {
     "data": {
      "image/png": "[encoded data removed]",
      "text/plain": [
       "<Figure size 432x288 with 1 Axes>"
      ]
     },
     "metadata": {
      "needs_background": "light"
     },
     "output_type": "display_data"
    },
    {
     "data": {
      "image/png": "[encoded data removed]",
      "text/plain": [
       "<Figure size 432x288 with 1 Axes>"
      ]
     },
     "metadata": {
      "needs_background": "light"
     },
     "output_type": "display_data"
    }
   ],
   "source": [
    "plot_history(history)"
   ]
  }
 ],
 "metadata": {
  "kernelspec": {
   "display_name": "Python 3 (ipykernel)",
   "language": "python",
   "name": "python3"
  },
  "language_info": {
   "codemirror_mode": {
    "name": "ipython",
    "version": 3
   },
   "file_extension": ".py",
   "mimetype": "text/x-python",
   "name": "python",
   "nbconvert_exporter": "python",
   "pygments_lexer": "ipython3",
   "version": "3.9.2"
  }
 },
 "nbformat": 4,
 "nbformat_minor": 5
}
